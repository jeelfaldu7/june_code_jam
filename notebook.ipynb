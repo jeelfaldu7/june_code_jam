{
 "cells": [
  {
   "cell_type": "markdown",
   "id": "4a917ed6",
   "metadata": {},
   "source": [
    "# June Code Jam "
   ]
  },
  {
   "cell_type": "markdown",
   "id": "7f337bfe",
   "metadata": {},
   "source": [
    "## Introduction"
   ]
  },
  {
   "cell_type": "markdown",
   "id": "25a13d83",
   "metadata": {},
   "source": [
    "## Data Overview"
   ]
  },
  {
   "cell_type": "code",
   "execution_count": 1,
   "id": "9f23ad07",
   "metadata": {},
   "outputs": [],
   "source": [
    "# Import necessary libraries\n",
    "import re\n",
    "import os\n",
    "import random\n",
    "import numpy as np\n",
    "import pandas as pd\n",
    "import seaborn as sns\n",
    "import matplotlib.pyplot as plt\n",
    "from scipy import stats as st\n",
    "from scipy import stats as st\n",
    "import warnings\n",
    "warnings.filterwarnings('ignore')\n",
    "\n",
    "from dash import Dash, html, dcc, callback, Output, Input\n",
    "import plotly.express as px"
   ]
  },
  {
   "cell_type": "markdown",
   "id": "6fddbaed",
   "metadata": {},
   "source": [
    "## Data Preprocessing"
   ]
  },
  {
   "cell_type": "code",
   "execution_count": 2,
   "id": "03a56aec",
   "metadata": {},
   "outputs": [],
   "source": [
    "# Load the dataset and read the data correctly\n",
    "data = pd.read_csv('datasets/spotify.csv')"
   ]
  },
  {
   "cell_type": "code",
   "execution_count": 3,
   "id": "e4b45426",
   "metadata": {},
   "outputs": [
    {
     "data": {
      "text/html": [
       "<div>\n",
       "<style scoped>\n",
       "    .dataframe tbody tr th:only-of-type {\n",
       "        vertical-align: middle;\n",
       "    }\n",
       "\n",
       "    .dataframe tbody tr th {\n",
       "        vertical-align: top;\n",
       "    }\n",
       "\n",
       "    .dataframe thead th {\n",
       "        text-align: right;\n",
       "    }\n",
       "</style>\n",
       "<table border=\"1\" class=\"dataframe\">\n",
       "  <thead>\n",
       "    <tr style=\"text-align: right;\">\n",
       "      <th></th>\n",
       "      <th>Index</th>\n",
       "      <th>Title</th>\n",
       "      <th>Artist</th>\n",
       "      <th>Top Genre</th>\n",
       "      <th>Year</th>\n",
       "      <th>Beats Per Minute (BPM)</th>\n",
       "      <th>Energy</th>\n",
       "      <th>Danceability</th>\n",
       "      <th>Loudness (dB)</th>\n",
       "      <th>Liveness</th>\n",
       "      <th>Valence</th>\n",
       "      <th>Length (Duration)</th>\n",
       "      <th>Acousticness</th>\n",
       "      <th>Speechiness</th>\n",
       "      <th>Popularity</th>\n",
       "    </tr>\n",
       "  </thead>\n",
       "  <tbody>\n",
       "    <tr>\n",
       "      <th>0</th>\n",
       "      <td>1</td>\n",
       "      <td>Sunrise</td>\n",
       "      <td>Norah Jones</td>\n",
       "      <td>adult standards</td>\n",
       "      <td>2004</td>\n",
       "      <td>157</td>\n",
       "      <td>30</td>\n",
       "      <td>53</td>\n",
       "      <td>-14</td>\n",
       "      <td>11</td>\n",
       "      <td>68</td>\n",
       "      <td>201</td>\n",
       "      <td>94</td>\n",
       "      <td>3</td>\n",
       "      <td>71</td>\n",
       "    </tr>\n",
       "    <tr>\n",
       "      <th>1</th>\n",
       "      <td>2</td>\n",
       "      <td>Black Night</td>\n",
       "      <td>Deep Purple</td>\n",
       "      <td>album rock</td>\n",
       "      <td>2000</td>\n",
       "      <td>135</td>\n",
       "      <td>79</td>\n",
       "      <td>50</td>\n",
       "      <td>-11</td>\n",
       "      <td>17</td>\n",
       "      <td>81</td>\n",
       "      <td>207</td>\n",
       "      <td>17</td>\n",
       "      <td>7</td>\n",
       "      <td>39</td>\n",
       "    </tr>\n",
       "    <tr>\n",
       "      <th>2</th>\n",
       "      <td>3</td>\n",
       "      <td>Clint Eastwood</td>\n",
       "      <td>Gorillaz</td>\n",
       "      <td>alternative hip hop</td>\n",
       "      <td>2001</td>\n",
       "      <td>168</td>\n",
       "      <td>69</td>\n",
       "      <td>66</td>\n",
       "      <td>-9</td>\n",
       "      <td>7</td>\n",
       "      <td>52</td>\n",
       "      <td>341</td>\n",
       "      <td>2</td>\n",
       "      <td>17</td>\n",
       "      <td>69</td>\n",
       "    </tr>\n",
       "    <tr>\n",
       "      <th>3</th>\n",
       "      <td>4</td>\n",
       "      <td>The Pretender</td>\n",
       "      <td>Foo Fighters</td>\n",
       "      <td>alternative metal</td>\n",
       "      <td>2007</td>\n",
       "      <td>173</td>\n",
       "      <td>96</td>\n",
       "      <td>43</td>\n",
       "      <td>-4</td>\n",
       "      <td>3</td>\n",
       "      <td>37</td>\n",
       "      <td>269</td>\n",
       "      <td>0</td>\n",
       "      <td>4</td>\n",
       "      <td>76</td>\n",
       "    </tr>\n",
       "    <tr>\n",
       "      <th>4</th>\n",
       "      <td>5</td>\n",
       "      <td>Waitin' On A Sunny Day</td>\n",
       "      <td>Bruce Springsteen</td>\n",
       "      <td>classic rock</td>\n",
       "      <td>2002</td>\n",
       "      <td>106</td>\n",
       "      <td>82</td>\n",
       "      <td>58</td>\n",
       "      <td>-5</td>\n",
       "      <td>10</td>\n",
       "      <td>87</td>\n",
       "      <td>256</td>\n",
       "      <td>1</td>\n",
       "      <td>3</td>\n",
       "      <td>59</td>\n",
       "    </tr>\n",
       "  </tbody>\n",
       "</table>\n",
       "</div>"
      ],
      "text/plain": [
       "   Index                   Title             Artist            Top Genre  \\\n",
       "0      1                 Sunrise        Norah Jones      adult standards   \n",
       "1      2             Black Night        Deep Purple           album rock   \n",
       "2      3          Clint Eastwood           Gorillaz  alternative hip hop   \n",
       "3      4           The Pretender       Foo Fighters    alternative metal   \n",
       "4      5  Waitin' On A Sunny Day  Bruce Springsteen         classic rock   \n",
       "\n",
       "   Year  Beats Per Minute (BPM)  Energy  Danceability  Loudness (dB)  \\\n",
       "0  2004                     157      30            53            -14   \n",
       "1  2000                     135      79            50            -11   \n",
       "2  2001                     168      69            66             -9   \n",
       "3  2007                     173      96            43             -4   \n",
       "4  2002                     106      82            58             -5   \n",
       "\n",
       "   Liveness  Valence Length (Duration)  Acousticness  Speechiness  Popularity  \n",
       "0        11       68               201            94            3          71  \n",
       "1        17       81               207            17            7          39  \n",
       "2         7       52               341             2           17          69  \n",
       "3         3       37               269             0            4          76  \n",
       "4        10       87               256             1            3          59  "
      ]
     },
     "metadata": {},
     "output_type": "display_data"
    }
   ],
   "source": [
    "# Display the first 5 rows of the dataset\n",
    "display(data.head())"
   ]
  },
  {
   "cell_type": "code",
   "execution_count": 4,
   "id": "fbb7d1de",
   "metadata": {},
   "outputs": [
    {
     "name": "stdout",
     "output_type": "stream",
     "text": [
      "The DataFrame has 1994 rows and 15 columns\n"
     ]
    }
   ],
   "source": [
    "# Display the shape of 'data' DataFrame \n",
    "n_rows, n_cols = data.shape\n",
    "print(f\"The DataFrame has {n_rows} rows and {n_cols} columns\") "
   ]
  },
  {
   "cell_type": "code",
   "execution_count": 5,
   "id": "90d08b99",
   "metadata": {},
   "outputs": [
    {
     "name": "stdout",
     "output_type": "stream",
     "text": [
      "<class 'pandas.core.frame.DataFrame'>\n",
      "RangeIndex: 1994 entries, 0 to 1993\n",
      "Data columns (total 15 columns):\n",
      " #   Column                  Non-Null Count  Dtype \n",
      "---  ------                  --------------  ----- \n",
      " 0   Index                   1994 non-null   int64 \n",
      " 1   Title                   1994 non-null   object\n",
      " 2   Artist                  1994 non-null   object\n",
      " 3   Top Genre               1994 non-null   object\n",
      " 4   Year                    1994 non-null   int64 \n",
      " 5   Beats Per Minute (BPM)  1994 non-null   int64 \n",
      " 6   Energy                  1994 non-null   int64 \n",
      " 7   Danceability            1994 non-null   int64 \n",
      " 8   Loudness (dB)           1994 non-null   int64 \n",
      " 9   Liveness                1994 non-null   int64 \n",
      " 10  Valence                 1994 non-null   int64 \n",
      " 11  Length (Duration)       1994 non-null   object\n",
      " 12  Acousticness            1994 non-null   int64 \n",
      " 13  Speechiness             1994 non-null   int64 \n",
      " 14  Popularity              1994 non-null   int64 \n",
      "dtypes: int64(11), object(4)\n",
      "memory usage: 233.8+ KB\n"
     ]
    }
   ],
   "source": [
    "# Display informative summary of the 'data' DataFrame\n",
    "data.info()"
   ]
  },
  {
   "cell_type": "code",
   "execution_count": 6,
   "id": "457906ba",
   "metadata": {},
   "outputs": [
    {
     "data": {
      "text/plain": [
       "Index(['index', 'title', 'artist', 'top_genre', 'year', 'beats_per_minute_bpm',\n",
       "       'energy', 'danceability', 'loudness_db', 'liveness', 'valence',\n",
       "       'length_duration', 'acousticness', 'speechiness', 'popularity'],\n",
       "      dtype='object')"
      ]
     },
     "execution_count": 6,
     "metadata": {},
     "output_type": "execute_result"
    }
   ],
   "source": [
    "# Clean column names: replace spaces with underscores, remove special characters, and convert to lowercase\n",
    "data.columns = [re.sub(r'\\s+', '_', re.sub(r'[^\\w\\s]', '', col)).lower() for col in data.columns]\n",
    "\n",
    "# Checking if the column names are renamed successfully\n",
    "data.columns"
   ]
  },
  {
   "cell_type": "code",
   "execution_count": 7,
   "id": "fddf992b",
   "metadata": {},
   "outputs": [
    {
     "name": "stdout",
     "output_type": "stream",
     "text": [
      "Number of duplicates: 0\n"
     ]
    }
   ],
   "source": [
    "# Check for any duplicates in the dataframe\n",
    "duplicates = data[data.duplicated()]\n",
    "print(f\"Number of duplicates: {duplicates.shape[0]}\")"
   ]
  },
  {
   "cell_type": "code",
   "execution_count": 8,
   "id": "1e7445f0",
   "metadata": {},
   "outputs": [
    {
     "data": {
      "text/plain": [
       "index                   0\n",
       "title                   0\n",
       "artist                  0\n",
       "top_genre               0\n",
       "year                    0\n",
       "beats_per_minute_bpm    0\n",
       "energy                  0\n",
       "danceability            0\n",
       "loudness_db             0\n",
       "liveness                0\n",
       "valence                 0\n",
       "length_duration         0\n",
       "acousticness            0\n",
       "speechiness             0\n",
       "popularity              0\n",
       "dtype: int64"
      ]
     },
     "metadata": {},
     "output_type": "display_data"
    }
   ],
   "source": [
    "# Check for missing values in 'data' DataFrame\n",
    "display(data.isna().sum())"
   ]
  },
  {
   "cell_type": "code",
   "execution_count": 9,
   "id": "50f1222e",
   "metadata": {},
   "outputs": [
    {
     "data": {
      "text/plain": [
       "length_duration\n",
       "215      23\n",
       "243      21\n",
       "241      20\n",
       "217      20\n",
       "236      20\n",
       "         ..\n",
       "1,367     1\n",
       "433       1\n",
       "602       1\n",
       "421       1\n",
       "128       1\n",
       "Name: count, Length: 350, dtype: int64"
      ]
     },
     "execution_count": 9,
     "metadata": {},
     "output_type": "execute_result"
    }
   ],
   "source": [
    "# Count the occurrences of each unique value in the 'length_duration' column \n",
    "# This is done to check why is this column datatype is object\n",
    "data['length_duration'].value_counts()"
   ]
  },
  {
   "cell_type": "code",
   "execution_count": 10,
   "id": "a86119d9",
   "metadata": {},
   "outputs": [
    {
     "name": "stdout",
     "output_type": "stream",
     "text": [
      "Number of values with a comma: 4\n"
     ]
    }
   ],
   "source": [
    "# Count how many values in the 'length_duration' column contain a comma\n",
    "num_with_comma = data['length_duration'].str.contains(',').sum()\n",
    "print(f\"Number of values with a comma: {num_with_comma}\")"
   ]
  },
  {
   "cell_type": "code",
   "execution_count": 11,
   "id": "fb7fbca8",
   "metadata": {},
   "outputs": [],
   "source": [
    "# Strip commas from length_duration entries that have them\n",
    "data['length_duration'] = data['length_duration'].str.replace(',', '')"
   ]
  },
  {
   "cell_type": "code",
   "execution_count": 12,
   "id": "0605ea9f",
   "metadata": {},
   "outputs": [
    {
     "data": {
      "text/plain": [
       "dtype('int32')"
      ]
     },
     "execution_count": 12,
     "metadata": {},
     "output_type": "execute_result"
    }
   ],
   "source": [
    "# Convert 'length_duration' column to integer data type\n",
    "data['length_duration'] = data['length_duration'].astype(int)\n",
    "\n",
    "# Checking if the datatype of 'length_duration' column is successfully changed\n",
    "data['length_duration'].dtype"
   ]
  },
  {
   "cell_type": "code",
   "execution_count": 13,
   "id": "f89f1625",
   "metadata": {},
   "outputs": [
    {
     "data": {
      "text/html": [
       "<div>\n",
       "<style scoped>\n",
       "    .dataframe tbody tr th:only-of-type {\n",
       "        vertical-align: middle;\n",
       "    }\n",
       "\n",
       "    .dataframe tbody tr th {\n",
       "        vertical-align: top;\n",
       "    }\n",
       "\n",
       "    .dataframe thead th {\n",
       "        text-align: right;\n",
       "    }\n",
       "</style>\n",
       "<table border=\"1\" class=\"dataframe\">\n",
       "  <thead>\n",
       "    <tr style=\"text-align: right;\">\n",
       "      <th></th>\n",
       "      <th>index</th>\n",
       "      <th>year</th>\n",
       "      <th>beats_per_minute_bpm</th>\n",
       "      <th>energy</th>\n",
       "      <th>danceability</th>\n",
       "      <th>loudness_db</th>\n",
       "      <th>liveness</th>\n",
       "      <th>valence</th>\n",
       "      <th>length_duration</th>\n",
       "      <th>acousticness</th>\n",
       "      <th>speechiness</th>\n",
       "      <th>popularity</th>\n",
       "    </tr>\n",
       "  </thead>\n",
       "  <tbody>\n",
       "    <tr>\n",
       "      <th>count</th>\n",
       "      <td>1994.000000</td>\n",
       "      <td>1994.000000</td>\n",
       "      <td>1994.000000</td>\n",
       "      <td>1994.000000</td>\n",
       "      <td>1994.000000</td>\n",
       "      <td>1994.000000</td>\n",
       "      <td>1994.000000</td>\n",
       "      <td>1994.000000</td>\n",
       "      <td>1994.000000</td>\n",
       "      <td>1994.000000</td>\n",
       "      <td>1994.000000</td>\n",
       "      <td>1994.00000</td>\n",
       "    </tr>\n",
       "    <tr>\n",
       "      <th>mean</th>\n",
       "      <td>997.500000</td>\n",
       "      <td>1992.992979</td>\n",
       "      <td>120.215647</td>\n",
       "      <td>59.679539</td>\n",
       "      <td>53.238215</td>\n",
       "      <td>-9.008526</td>\n",
       "      <td>19.012036</td>\n",
       "      <td>49.408726</td>\n",
       "      <td>262.443330</td>\n",
       "      <td>28.858074</td>\n",
       "      <td>4.994985</td>\n",
       "      <td>59.52658</td>\n",
       "    </tr>\n",
       "    <tr>\n",
       "      <th>std</th>\n",
       "      <td>575.762538</td>\n",
       "      <td>16.116048</td>\n",
       "      <td>28.028096</td>\n",
       "      <td>22.154322</td>\n",
       "      <td>15.351507</td>\n",
       "      <td>3.647876</td>\n",
       "      <td>16.727378</td>\n",
       "      <td>24.858212</td>\n",
       "      <td>93.604387</td>\n",
       "      <td>29.011986</td>\n",
       "      <td>4.401566</td>\n",
       "      <td>14.35160</td>\n",
       "    </tr>\n",
       "    <tr>\n",
       "      <th>min</th>\n",
       "      <td>1.000000</td>\n",
       "      <td>1956.000000</td>\n",
       "      <td>37.000000</td>\n",
       "      <td>3.000000</td>\n",
       "      <td>10.000000</td>\n",
       "      <td>-27.000000</td>\n",
       "      <td>2.000000</td>\n",
       "      <td>3.000000</td>\n",
       "      <td>93.000000</td>\n",
       "      <td>0.000000</td>\n",
       "      <td>2.000000</td>\n",
       "      <td>11.00000</td>\n",
       "    </tr>\n",
       "    <tr>\n",
       "      <th>25%</th>\n",
       "      <td>499.250000</td>\n",
       "      <td>1979.000000</td>\n",
       "      <td>99.000000</td>\n",
       "      <td>42.000000</td>\n",
       "      <td>43.000000</td>\n",
       "      <td>-11.000000</td>\n",
       "      <td>9.000000</td>\n",
       "      <td>29.000000</td>\n",
       "      <td>212.000000</td>\n",
       "      <td>3.000000</td>\n",
       "      <td>3.000000</td>\n",
       "      <td>49.25000</td>\n",
       "    </tr>\n",
       "    <tr>\n",
       "      <th>50%</th>\n",
       "      <td>997.500000</td>\n",
       "      <td>1993.000000</td>\n",
       "      <td>119.000000</td>\n",
       "      <td>61.000000</td>\n",
       "      <td>53.000000</td>\n",
       "      <td>-8.000000</td>\n",
       "      <td>12.000000</td>\n",
       "      <td>47.000000</td>\n",
       "      <td>245.000000</td>\n",
       "      <td>18.000000</td>\n",
       "      <td>4.000000</td>\n",
       "      <td>62.00000</td>\n",
       "    </tr>\n",
       "    <tr>\n",
       "      <th>75%</th>\n",
       "      <td>1495.750000</td>\n",
       "      <td>2007.000000</td>\n",
       "      <td>136.000000</td>\n",
       "      <td>78.000000</td>\n",
       "      <td>64.000000</td>\n",
       "      <td>-6.000000</td>\n",
       "      <td>23.000000</td>\n",
       "      <td>69.750000</td>\n",
       "      <td>289.000000</td>\n",
       "      <td>50.000000</td>\n",
       "      <td>5.000000</td>\n",
       "      <td>71.00000</td>\n",
       "    </tr>\n",
       "    <tr>\n",
       "      <th>max</th>\n",
       "      <td>1994.000000</td>\n",
       "      <td>2019.000000</td>\n",
       "      <td>206.000000</td>\n",
       "      <td>100.000000</td>\n",
       "      <td>96.000000</td>\n",
       "      <td>-2.000000</td>\n",
       "      <td>99.000000</td>\n",
       "      <td>99.000000</td>\n",
       "      <td>1412.000000</td>\n",
       "      <td>99.000000</td>\n",
       "      <td>55.000000</td>\n",
       "      <td>100.00000</td>\n",
       "    </tr>\n",
       "  </tbody>\n",
       "</table>\n",
       "</div>"
      ],
      "text/plain": [
       "             index         year  beats_per_minute_bpm       energy  \\\n",
       "count  1994.000000  1994.000000           1994.000000  1994.000000   \n",
       "mean    997.500000  1992.992979            120.215647    59.679539   \n",
       "std     575.762538    16.116048             28.028096    22.154322   \n",
       "min       1.000000  1956.000000             37.000000     3.000000   \n",
       "25%     499.250000  1979.000000             99.000000    42.000000   \n",
       "50%     997.500000  1993.000000            119.000000    61.000000   \n",
       "75%    1495.750000  2007.000000            136.000000    78.000000   \n",
       "max    1994.000000  2019.000000            206.000000   100.000000   \n",
       "\n",
       "       danceability  loudness_db     liveness      valence  length_duration  \\\n",
       "count   1994.000000  1994.000000  1994.000000  1994.000000      1994.000000   \n",
       "mean      53.238215    -9.008526    19.012036    49.408726       262.443330   \n",
       "std       15.351507     3.647876    16.727378    24.858212        93.604387   \n",
       "min       10.000000   -27.000000     2.000000     3.000000        93.000000   \n",
       "25%       43.000000   -11.000000     9.000000    29.000000       212.000000   \n",
       "50%       53.000000    -8.000000    12.000000    47.000000       245.000000   \n",
       "75%       64.000000    -6.000000    23.000000    69.750000       289.000000   \n",
       "max       96.000000    -2.000000    99.000000    99.000000      1412.000000   \n",
       "\n",
       "       acousticness  speechiness  popularity  \n",
       "count   1994.000000  1994.000000  1994.00000  \n",
       "mean      28.858074     4.994985    59.52658  \n",
       "std       29.011986     4.401566    14.35160  \n",
       "min        0.000000     2.000000    11.00000  \n",
       "25%        3.000000     3.000000    49.25000  \n",
       "50%       18.000000     4.000000    62.00000  \n",
       "75%       50.000000     5.000000    71.00000  \n",
       "max       99.000000    55.000000   100.00000  "
      ]
     },
     "execution_count": 13,
     "metadata": {},
     "output_type": "execute_result"
    }
   ],
   "source": [
    "# Display descriptive statistics of the 'data' DataFrame\n",
    "data.describe()"
   ]
  },
  {
   "cell_type": "markdown",
   "id": "ccc92b39",
   "metadata": {},
   "source": [
    "## The `top_genre` Feature\n",
    "\n",
    "`top_genre` is a feature in our data that describes the genre of the corresponding song. Sounds simple enough, right? Well, if we want the users of our app to be able to look at data for different genres, we need to ensure that we're not breaking our data down into options that have relatively few data points. There are..."
   ]
  },
  {
   "cell_type": "code",
   "execution_count": 14,
   "id": "1704ad0e",
   "metadata": {},
   "outputs": [
    {
     "data": {
      "text/plain": [
       "149"
      ]
     },
     "execution_count": 14,
     "metadata": {},
     "output_type": "execute_result"
    }
   ],
   "source": [
    "data['top_genre'].value_counts().count()"
   ]
  },
  {
   "cell_type": "markdown",
   "id": "c07811eb",
   "metadata": {},
   "source": [
    "...149 different genres represented by our data. The median genre has barely any songs in it at all:"
   ]
  },
  {
   "cell_type": "code",
   "execution_count": 15,
   "id": "ad1eff6b",
   "metadata": {},
   "outputs": [
    {
     "data": {
      "text/plain": [
       "3.0"
      ]
     },
     "execution_count": 15,
     "metadata": {},
     "output_type": "execute_result"
    }
   ],
   "source": [
    "data['top_genre'].value_counts().sort_values(ascending=False).median()\n"
   ]
  },
  {
   "cell_type": "markdown",
   "id": "40d4df96",
   "metadata": {},
   "source": [
    "Three songs is hardly enough to call \"data.\" So we need a solution that can both reduce the number of categories our users have to menu through and ensure that obscure genres are still able to be represented.\n",
    "\n",
    "Enter `genre_group`:"
   ]
  },
  {
   "cell_type": "code",
   "execution_count": 16,
   "id": "810ce8d6",
   "metadata": {},
   "outputs": [],
   "source": [
    "data['genre_group'] = data['top_genre'].copy()"
   ]
  },
  {
   "cell_type": "code",
   "execution_count": 17,
   "id": "099a0a96",
   "metadata": {},
   "outputs": [
    {
     "data": {
      "text/plain": [
       "genre_group\n",
       "album rock           413\n",
       "adult standards      123\n",
       "dutch pop             88\n",
       "alternative rock      86\n",
       "dance pop             83\n",
       "                    ... \n",
       "streektaal             1\n",
       "indie anthem-folk      1\n",
       "la pop                 1\n",
       "ccm                    1\n",
       "bebop                  1\n",
       "Name: count, Length: 149, dtype: int64"
      ]
     },
     "execution_count": 17,
     "metadata": {},
     "output_type": "execute_result"
    }
   ],
   "source": [
    "data['genre_group'].value_counts()"
   ]
  },
  {
   "cell_type": "markdown",
   "id": "80728399",
   "metadata": {},
   "source": [
    "We'll leave `top_genre` untouched, but do some operations on this new copy of it to reduce the fragmentation of the data when it's sorted or grouped by genre.\n",
    "\n",
    "We can examine whether a few particular phrases appear in many genres:"
   ]
  },
  {
   "cell_type": "code",
   "execution_count": 18,
   "id": "9fc28ea1",
   "metadata": {},
   "outputs": [
    {
     "name": "stdout",
     "output_type": "stream",
     "text": [
      "<class 'pandas.core.frame.DataFrame'>\n",
      "Index: 857 entries, 1 to 1991\n",
      "Data columns (total 16 columns):\n",
      " #   Column                Non-Null Count  Dtype \n",
      "---  ------                --------------  ----- \n",
      " 0   index                 857 non-null    int64 \n",
      " 1   title                 857 non-null    object\n",
      " 2   artist                857 non-null    object\n",
      " 3   top_genre             857 non-null    object\n",
      " 4   year                  857 non-null    int64 \n",
      " 5   beats_per_minute_bpm  857 non-null    int64 \n",
      " 6   energy                857 non-null    int64 \n",
      " 7   danceability          857 non-null    int64 \n",
      " 8   loudness_db           857 non-null    int64 \n",
      " 9   liveness              857 non-null    int64 \n",
      " 10  valence               857 non-null    int64 \n",
      " 11  length_duration       857 non-null    int32 \n",
      " 12  acousticness          857 non-null    int64 \n",
      " 13  speechiness           857 non-null    int64 \n",
      " 14  popularity            857 non-null    int64 \n",
      " 15  genre_group           857 non-null    object\n",
      "dtypes: int32(1), int64(11), object(4)\n",
      "memory usage: 110.5+ KB\n"
     ]
    }
   ],
   "source": [
    "data[data['top_genre'].str.contains('rock')].info()"
   ]
  },
  {
   "cell_type": "code",
   "execution_count": 19,
   "id": "ecf41e66",
   "metadata": {},
   "outputs": [
    {
     "name": "stdout",
     "output_type": "stream",
     "text": [
      "<class 'pandas.core.frame.DataFrame'>\n",
      "Index: 398 entries, 5 to 1971\n",
      "Data columns (total 16 columns):\n",
      " #   Column                Non-Null Count  Dtype \n",
      "---  ------                --------------  ----- \n",
      " 0   index                 398 non-null    int64 \n",
      " 1   title                 398 non-null    object\n",
      " 2   artist                398 non-null    object\n",
      " 3   top_genre             398 non-null    object\n",
      " 4   year                  398 non-null    int64 \n",
      " 5   beats_per_minute_bpm  398 non-null    int64 \n",
      " 6   energy                398 non-null    int64 \n",
      " 7   danceability          398 non-null    int64 \n",
      " 8   loudness_db           398 non-null    int64 \n",
      " 9   liveness              398 non-null    int64 \n",
      " 10  valence               398 non-null    int64 \n",
      " 11  length_duration       398 non-null    int32 \n",
      " 12  acousticness          398 non-null    int64 \n",
      " 13  speechiness           398 non-null    int64 \n",
      " 14  popularity            398 non-null    int64 \n",
      " 15  genre_group           398 non-null    object\n",
      "dtypes: int32(1), int64(11), object(4)\n",
      "memory usage: 51.3+ KB\n"
     ]
    }
   ],
   "source": [
    "data[data['top_genre'].str.contains('pop')].info()"
   ]
  },
  {
   "cell_type": "markdown",
   "id": "6ed06a5f",
   "metadata": {},
   "source": [
    "857 of our 1994 songs contain some sort of \"rock\" in the genre, while 398 contain \"pop.\" Presumably a few are \"pop rock\":"
   ]
  },
  {
   "cell_type": "code",
   "execution_count": 20,
   "id": "6a25280c",
   "metadata": {},
   "outputs": [
    {
     "name": "stdout",
     "output_type": "stream",
     "text": [
      "<class 'pandas.core.frame.DataFrame'>\n",
      "Index: 10 entries, 5 to 1777\n",
      "Data columns (total 16 columns):\n",
      " #   Column                Non-Null Count  Dtype \n",
      "---  ------                --------------  ----- \n",
      " 0   index                 10 non-null     int64 \n",
      " 1   title                 10 non-null     object\n",
      " 2   artist                10 non-null     object\n",
      " 3   top_genre             10 non-null     object\n",
      " 4   year                  10 non-null     int64 \n",
      " 5   beats_per_minute_bpm  10 non-null     int64 \n",
      " 6   energy                10 non-null     int64 \n",
      " 7   danceability          10 non-null     int64 \n",
      " 8   loudness_db           10 non-null     int64 \n",
      " 9   liveness              10 non-null     int64 \n",
      " 10  valence               10 non-null     int64 \n",
      " 11  length_duration       10 non-null     int32 \n",
      " 12  acousticness          10 non-null     int64 \n",
      " 13  speechiness           10 non-null     int64 \n",
      " 14  popularity            10 non-null     int64 \n",
      " 15  genre_group           10 non-null     object\n",
      "dtypes: int32(1), int64(11), object(4)\n",
      "memory usage: 1.3+ KB\n"
     ]
    }
   ],
   "source": [
    "data[data['top_genre'].str.contains('pop rock')].info()"
   ]
  },
  {
   "cell_type": "markdown",
   "id": "205f3c72",
   "metadata": {},
   "source": [
    "So we'll have a few cases where things overlap. For our purposes, when a `top_genre` contains multiple `genre_group`s, we'll try to assign frequent ones first, which is a little arbitrary.\n",
    "\n",
    "To get some ideas on what words to check for, let's look for word frequency:"
   ]
  },
  {
   "cell_type": "code",
   "execution_count": 21,
   "id": "6a9284df",
   "metadata": {},
   "outputs": [
    {
     "data": {
      "text/plain": [
       "(149,)"
      ]
     },
     "execution_count": 21,
     "metadata": {},
     "output_type": "execute_result"
    }
   ],
   "source": [
    "top_genres = data['top_genre'].unique()\n",
    "\n",
    "top_genres.shape"
   ]
  },
  {
   "cell_type": "code",
   "execution_count": 22,
   "id": "7a84a605",
   "metadata": {},
   "outputs": [
    {
     "data": {
      "text/plain": [
       "1924"
      ]
     },
     "execution_count": 22,
     "metadata": {},
     "output_type": "execute_result"
    }
   ],
   "source": [
    "top_genres_str = \" \".join(top_genres)\n",
    "len(top_genres_str)"
   ]
  },
  {
   "cell_type": "code",
   "execution_count": 23,
   "id": "5870dcab",
   "metadata": {},
   "outputs": [
    {
     "data": {
      "text/plain": [
       "284"
      ]
     },
     "execution_count": 23,
     "metadata": {},
     "output_type": "execute_result"
    }
   ],
   "source": [
    "top_genres_words = top_genres_str.split(\" \")\n",
    "len(top_genres_words)"
   ]
  },
  {
   "cell_type": "markdown",
   "id": "746bad5e",
   "metadata": {},
   "source": [
    "We have a list of the 284 words that appear in the `top_genre` column. To find the frequencies of those words:"
   ]
  },
  {
   "cell_type": "code",
   "execution_count": 24,
   "id": "c4d8e94e",
   "metadata": {},
   "outputs": [],
   "source": [
    "def make_freq_dict(series):\n",
    "    #convert pd.Series to concatenated string\n",
    "    words = \" \".join(series.unique()).split(\" \")\n",
    "\n",
    "    #create a dictionary; if word exists, increment its number, otherwise make it exist and give it a counter of 1\n",
    "    dictionary = {}\n",
    "    for i in words:\n",
    "        if i in dictionary:\n",
    "            dictionary[i] += 1\n",
    "        else:\n",
    "            dictionary[i] = 1\n",
    "        \n",
    "    return dictionary"
   ]
  },
  {
   "cell_type": "code",
   "execution_count": 25,
   "id": "fe9a9af4",
   "metadata": {},
   "outputs": [
    {
     "data": {
      "text/plain": [
       "pop            33\n",
       "rock           27\n",
       "alternative    11\n",
       "classic         8\n",
       "dutch           8\n",
       "australian      7\n",
       "hip             6\n",
       "indie           6\n",
       "british         5\n",
       "folk            5\n",
       "dtype: int64"
      ]
     },
     "execution_count": 25,
     "metadata": {},
     "output_type": "execute_result"
    }
   ],
   "source": [
    "top_genres_series = pd.Series(make_freq_dict(data['top_genre']))\n",
    "top_genres_series.sort_values(ascending=False).head(10)"
   ]
  },
  {
   "cell_type": "markdown",
   "id": "f6fd0577",
   "metadata": {},
   "source": [
    "So we can see that there are a lot of different \"pop\" genres and \"rock\" genres, for instance. To make our genre groups, we can start with the two most obvious ones (\"pop\" and \"rock\") and then rerun the above function to see what else shakes out."
   ]
  },
  {
   "cell_type": "code",
   "execution_count": 26,
   "id": "555f29f2",
   "metadata": {},
   "outputs": [
    {
     "data": {
      "text/plain": [
       "genre_group\n",
       "rock                     847\n",
       "pop                      398\n",
       "adult standards          123\n",
       "dutch indie               75\n",
       "alternative metal         70\n",
       "                        ... \n",
       "classic soundtrack         1\n",
       "icelandic indie            1\n",
       "compositional ambient      1\n",
       "streektaal                 1\n",
       "bebop                      1\n",
       "Name: count, Length: 85, dtype: int64"
      ]
     },
     "execution_count": 26,
     "metadata": {},
     "output_type": "execute_result"
    }
   ],
   "source": [
    "#leave entries that don't contain 'pop' alone; replace those that do with just 'pop'\n",
    "data['genre_group'].where(~data['genre_group'].str.contains('pop'), 'pop', inplace=True)\n",
    "\n",
    "#same, but for rock\n",
    "data['genre_group'].where(~data['genre_group'].str.contains('rock'), 'rock', inplace=True)\n",
    "\n",
    "#result\n",
    "data['genre_group'].value_counts()"
   ]
  },
  {
   "cell_type": "code",
   "execution_count": 27,
   "id": "0e772c8e",
   "metadata": {},
   "outputs": [
    {
     "data": {
      "text/plain": [
       "dutch          6\n",
       "alternative    5\n",
       "hip            5\n",
       "hop            5\n",
       "indie          5\n",
       "british        4\n",
       "australian     4\n",
       "metal          4\n",
       "folk           4\n",
       "soul           4\n",
       "dtype: int64"
      ]
     },
     "execution_count": 27,
     "metadata": {},
     "output_type": "execute_result"
    }
   ],
   "source": [
    "#rerun the popular words check\n",
    "top_genres_series = pd.Series(make_freq_dict(data['genre_group']))\n",
    "top_genres_series.sort_values(ascending=False).head(10)"
   ]
  },
  {
   "cell_type": "markdown",
   "id": "970f76db",
   "metadata": {},
   "source": [
    "We run into an interesting situation: many of the remaining words that appear often are qualifiers, such as locations of origin or \"alternative\":"
   ]
  },
  {
   "cell_type": "code",
   "execution_count": 28,
   "id": "fbe1786f",
   "metadata": {},
   "outputs": [
    {
     "data": {
      "text/plain": [
       "genre_group\n",
       "alternative metal      70\n",
       "alternative dance      15\n",
       "alternative hip hop     2\n",
       "latin alternative       1\n",
       "alternative country     1\n",
       "Name: count, dtype: int64"
      ]
     },
     "execution_count": 28,
     "metadata": {},
     "output_type": "execute_result"
    }
   ],
   "source": [
    "data[data['genre_group'].str.contains('alternative')]['genre_group'].value_counts()"
   ]
  },
  {
   "cell_type": "code",
   "execution_count": 29,
   "id": "4a23765f",
   "metadata": {},
   "outputs": [
    {
     "data": {
      "text/plain": [
       "genre_group\n",
       "british invasion             36\n",
       "british soul                 31\n",
       "british folk                  4\n",
       "british singer-songwriter     1\n",
       "Name: count, dtype: int64"
      ]
     },
     "execution_count": 29,
     "metadata": {},
     "output_type": "execute_result"
    }
   ],
   "source": [
    "data[data['genre_group'].str.contains('british')]['genre_group'].value_counts()"
   ]
  },
  {
   "cell_type": "markdown",
   "id": "6845efa0",
   "metadata": {},
   "source": [
    "Like any discussion involving genre, this involves a lot of interpretation and judgment. \"Hip hop\" and \"metal\" are relatively self-similar genres, but \"alternative metal\" and \"alternative country\" probably don't make sense to be grouped together. We can group the former two categories and look again:"
   ]
  },
  {
   "cell_type": "code",
   "execution_count": 30,
   "id": "40240004",
   "metadata": {},
   "outputs": [
    {
     "data": {
      "text/plain": [
       "genre_group\n",
       "rock                 847\n",
       "pop                  398\n",
       "adult standards      123\n",
       "metal                 93\n",
       "dutch indie           75\n",
       "dutch cabaret         51\n",
       "permanent wave        38\n",
       "british invasion      36\n",
       "british soul          31\n",
       "hip hop               29\n",
       "disco                 18\n",
       "neo mellow            17\n",
       "alternative dance     15\n",
       "funk                  13\n",
       "dutch americana       12\n",
       "big beat              11\n",
       "mellow gold           11\n",
       "classic soul          11\n",
       "carnaval limburg      10\n",
       "chanson                9\n",
       "arkansas country       9\n",
       "reggae                 8\n",
       "blues                  8\n",
       "folk                   8\n",
       "big room               7\n",
       "Name: count, dtype: int64"
      ]
     },
     "execution_count": 30,
     "metadata": {},
     "output_type": "execute_result"
    }
   ],
   "source": [
    "data['genre_group'].where(~data['genre_group'].str.contains('hip hop'), 'hip hop', inplace=True)\n",
    "\n",
    "data['genre_group'].where(~data['genre_group'].str.contains('metal'), 'metal', inplace=True)\n",
    "\n",
    "#result\n",
    "data['genre_group'].value_counts().head(25)"
   ]
  },
  {
   "cell_type": "code",
   "execution_count": 31,
   "id": "764b8f1e",
   "metadata": {},
   "outputs": [
    {
     "data": {
      "text/plain": [
       "alternative    11\n",
       "classic         8\n",
       "dutch           8\n",
       "australian      7\n",
       "hip             6\n",
       "indie           6\n",
       "british         5\n",
       "folk            5\n",
       "hop             5\n",
       "country         4\n",
       "metal           4\n",
       "canadian        4\n",
       "dance           4\n",
       "soul            4\n",
       "irish           3\n",
       "dtype: int64"
      ]
     },
     "execution_count": 31,
     "metadata": {},
     "output_type": "execute_result"
    }
   ],
   "source": [
    "top_genres_series = pd.Series(make_freq_dict(data['top_genre']))\n",
    "top_genres_series.sort_values(ascending=False).iloc[2:].head(15)"
   ]
  },
  {
   "cell_type": "markdown",
   "id": "a0e92c03",
   "metadata": {},
   "source": [
    "We have several large groups already, so we look a little farther down the list by using `iloc` to cut the first few options that we've already covered. \"Folk\", \"country\", and \"soul\" can likely be grouped to ensure representation:"
   ]
  },
  {
   "cell_type": "code",
   "execution_count": 32,
   "id": "bf3180b8",
   "metadata": {},
   "outputs": [
    {
     "data": {
      "text/plain": [
       "genre_group\n",
       "rock                 847\n",
       "pop                  398\n",
       "adult standards      123\n",
       "metal                 93\n",
       "dutch indie           75\n",
       "dutch cabaret         51\n",
       "soul                  45\n",
       "permanent wave        38\n",
       "british invasion      36\n",
       "hip hop               29\n",
       "folk                  21\n",
       "disco                 18\n",
       "neo mellow            17\n",
       "alternative dance     15\n",
       "funk                  13\n",
       "country               12\n",
       "dutch americana       12\n",
       "big beat              11\n",
       "mellow gold           11\n",
       "carnaval limburg      10\n",
       "chanson                9\n",
       "blues                  8\n",
       "reggae                 8\n",
       "electro                7\n",
       "big room               7\n",
       "Name: count, dtype: int64"
      ]
     },
     "execution_count": 32,
     "metadata": {},
     "output_type": "execute_result"
    }
   ],
   "source": [
    "data['genre_group'].where(~data['genre_group'].str.contains('folk'), 'folk', inplace=True)\n",
    "\n",
    "data['genre_group'].where(~data['genre_group'].str.contains('country'), 'country', inplace=True)\n",
    "\n",
    "data['genre_group'].where(~data['genre_group'].str.contains('soul'), 'soul', inplace=True)\n",
    "\n",
    "data['genre_group'].value_counts().head(25)"
   ]
  },
  {
   "cell_type": "markdown",
   "id": "477ad7fb",
   "metadata": {},
   "source": [
    "Our rate of change is slowing down at this point. Investigating a few other genres, even relatively broad ones like \"blues,\" shows a lack of data:"
   ]
  },
  {
   "cell_type": "code",
   "execution_count": 33,
   "id": "e38281c3",
   "metadata": {},
   "outputs": [
    {
     "data": {
      "text/plain": [
       "genre_group\n",
       "blues    8\n",
       "Name: count, dtype: int64"
      ]
     },
     "execution_count": 33,
     "metadata": {},
     "output_type": "execute_result"
    }
   ],
   "source": [
    "data[data['genre_group'].str.contains('blues')]['genre_group'].value_counts()"
   ]
  },
  {
   "cell_type": "markdown",
   "id": "2dc499bb",
   "metadata": {},
   "source": [
    "At this point, it's worth establishing a cutoff: any `genre_group` representing 15 or fewer rows can be consolidated into \"other\" since there's likely not enough data to justify having them. This is an arbitrary number, and it might be changed arbitrarily later if doing so improves the Dash app."
   ]
  },
  {
   "cell_type": "code",
   "execution_count": 34,
   "id": "728a058e",
   "metadata": {},
   "outputs": [
    {
     "data": {
      "text/plain": [
       "genre_group\n",
       "rock                  True\n",
       "pop                   True\n",
       "adult standards       True\n",
       "metal                 True\n",
       "dutch indie           True\n",
       "dutch cabaret         True\n",
       "soul                  True\n",
       "permanent wave        True\n",
       "british invasion      True\n",
       "hip hop               True\n",
       "folk                  True\n",
       "disco                 True\n",
       "neo mellow            True\n",
       "alternative dance    False\n",
       "funk                 False\n",
       "Name: count, dtype: bool"
      ]
     },
     "execution_count": 34,
     "metadata": {},
     "output_type": "execute_result"
    }
   ],
   "source": [
    "cutoff = 15\n",
    "\n",
    "#get the list of confirmed genres\n",
    "(data['genre_group'].value_counts().sort_values(ascending=False) > cutoff).head(15)"
   ]
  },
  {
   "cell_type": "code",
   "execution_count": 35,
   "id": "990af9a6",
   "metadata": {},
   "outputs": [
    {
     "data": {
      "text/plain": [
       "genre_group\n",
       "rock                847\n",
       "pop                 398\n",
       "other               203\n",
       "adult standards     123\n",
       "metal                93\n",
       "dutch indie          75\n",
       "dutch cabaret        51\n",
       "soul                 45\n",
       "permanent wave       38\n",
       "british invasion     36\n",
       "hip hop              29\n",
       "folk                 21\n",
       "disco                18\n",
       "neo mellow           17\n",
       "Name: count, dtype: int64"
      ]
     },
     "execution_count": 35,
     "metadata": {},
     "output_type": "execute_result"
    }
   ],
   "source": [
    "#replace all False instances with \"other\"\n",
    "#data['genre_group'].where(~data['genre_group'].str.contains('metal'), 'metal', inplace=True)\n",
    "genres = data['genre_group'].value_counts()\n",
    "query = ((genres > 15)[genres >15]).index\n",
    "\n",
    "data['genre_group'].where(data['genre_group'].isin(query.values), 'other', inplace=True)\n",
    "data['genre_group'].value_counts()"
   ]
  },
  {
   "cell_type": "markdown",
   "id": "f2e77b75",
   "metadata": {},
   "source": [
    "So now we have a list, `genre_group`, that treats genre as a slightly broader categories than `top_genre` does. That original data is still there if we need it."
   ]
  }
 ],
 "metadata": {
  "kernelspec": {
   "display_name": "base",
   "language": "python",
   "name": "python3"
  },
  "language_info": {
   "codemirror_mode": {
    "name": "ipython",
    "version": 3
   },
   "file_extension": ".py",
   "mimetype": "text/x-python",
   "name": "python",
   "nbconvert_exporter": "python",
   "pygments_lexer": "ipython3",
   "version": "3.12.4"
  }
 },
 "nbformat": 4,
 "nbformat_minor": 5
}
