{
 "cells": [
  {
   "cell_type": "markdown",
   "id": "4a917ed6",
   "metadata": {},
   "source": [
    "# June Code Jam "
   ]
  },
  {
   "cell_type": "markdown",
   "id": "7f337bfe",
   "metadata": {},
   "source": [
    "## Introduction"
   ]
  },
  {
   "cell_type": "markdown",
   "id": "25a13d83",
   "metadata": {},
   "source": [
    "## Data Overview"
   ]
  },
  {
   "cell_type": "code",
   "execution_count": 1,
   "id": "9f23ad07",
   "metadata": {},
   "outputs": [],
   "source": [
    "# Import necessary libraries\n",
    "import re\n",
    "import os\n",
    "import random\n",
    "import numpy as np\n",
    "import pandas as pd\n",
    "import seaborn as sns\n",
    "import matplotlib.pyplot as plt\n",
    "from scipy import stats as st\n",
    "from scipy import stats as st\n",
    "import warnings\n",
    "warnings.filterwarnings('ignore')"
   ]
  },
  {
   "cell_type": "markdown",
   "id": "6fddbaed",
   "metadata": {},
   "source": [
    "## Data Preprocessing"
   ]
  },
  {
   "cell_type": "code",
   "execution_count": 2,
   "id": "03a56aec",
   "metadata": {},
   "outputs": [],
   "source": [
    "# Load the dataset and read the data correctly\n",
    "data = pd.read_csv('datasets/spotify.csv')"
   ]
  },
  {
   "cell_type": "code",
   "execution_count": 3,
   "id": "e4b45426",
   "metadata": {},
   "outputs": [
    {
     "data": {
      "text/html": [
       "<div>\n",
       "<style scoped>\n",
       "    .dataframe tbody tr th:only-of-type {\n",
       "        vertical-align: middle;\n",
       "    }\n",
       "\n",
       "    .dataframe tbody tr th {\n",
       "        vertical-align: top;\n",
       "    }\n",
       "\n",
       "    .dataframe thead th {\n",
       "        text-align: right;\n",
       "    }\n",
       "</style>\n",
       "<table border=\"1\" class=\"dataframe\">\n",
       "  <thead>\n",
       "    <tr style=\"text-align: right;\">\n",
       "      <th></th>\n",
       "      <th>Index</th>\n",
       "      <th>Title</th>\n",
       "      <th>Artist</th>\n",
       "      <th>Top Genre</th>\n",
       "      <th>Year</th>\n",
       "      <th>Beats Per Minute (BPM)</th>\n",
       "      <th>Energy</th>\n",
       "      <th>Danceability</th>\n",
       "      <th>Loudness (dB)</th>\n",
       "      <th>Liveness</th>\n",
       "      <th>Valence</th>\n",
       "      <th>Length (Duration)</th>\n",
       "      <th>Acousticness</th>\n",
       "      <th>Speechiness</th>\n",
       "      <th>Popularity</th>\n",
       "    </tr>\n",
       "  </thead>\n",
       "  <tbody>\n",
       "    <tr>\n",
       "      <th>0</th>\n",
       "      <td>1</td>\n",
       "      <td>Sunrise</td>\n",
       "      <td>Norah Jones</td>\n",
       "      <td>adult standards</td>\n",
       "      <td>2004</td>\n",
       "      <td>157</td>\n",
       "      <td>30</td>\n",
       "      <td>53</td>\n",
       "      <td>-14</td>\n",
       "      <td>11</td>\n",
       "      <td>68</td>\n",
       "      <td>201</td>\n",
       "      <td>94</td>\n",
       "      <td>3</td>\n",
       "      <td>71</td>\n",
       "    </tr>\n",
       "    <tr>\n",
       "      <th>1</th>\n",
       "      <td>2</td>\n",
       "      <td>Black Night</td>\n",
       "      <td>Deep Purple</td>\n",
       "      <td>album rock</td>\n",
       "      <td>2000</td>\n",
       "      <td>135</td>\n",
       "      <td>79</td>\n",
       "      <td>50</td>\n",
       "      <td>-11</td>\n",
       "      <td>17</td>\n",
       "      <td>81</td>\n",
       "      <td>207</td>\n",
       "      <td>17</td>\n",
       "      <td>7</td>\n",
       "      <td>39</td>\n",
       "    </tr>\n",
       "    <tr>\n",
       "      <th>2</th>\n",
       "      <td>3</td>\n",
       "      <td>Clint Eastwood</td>\n",
       "      <td>Gorillaz</td>\n",
       "      <td>alternative hip hop</td>\n",
       "      <td>2001</td>\n",
       "      <td>168</td>\n",
       "      <td>69</td>\n",
       "      <td>66</td>\n",
       "      <td>-9</td>\n",
       "      <td>7</td>\n",
       "      <td>52</td>\n",
       "      <td>341</td>\n",
       "      <td>2</td>\n",
       "      <td>17</td>\n",
       "      <td>69</td>\n",
       "    </tr>\n",
       "    <tr>\n",
       "      <th>3</th>\n",
       "      <td>4</td>\n",
       "      <td>The Pretender</td>\n",
       "      <td>Foo Fighters</td>\n",
       "      <td>alternative metal</td>\n",
       "      <td>2007</td>\n",
       "      <td>173</td>\n",
       "      <td>96</td>\n",
       "      <td>43</td>\n",
       "      <td>-4</td>\n",
       "      <td>3</td>\n",
       "      <td>37</td>\n",
       "      <td>269</td>\n",
       "      <td>0</td>\n",
       "      <td>4</td>\n",
       "      <td>76</td>\n",
       "    </tr>\n",
       "    <tr>\n",
       "      <th>4</th>\n",
       "      <td>5</td>\n",
       "      <td>Waitin' On A Sunny Day</td>\n",
       "      <td>Bruce Springsteen</td>\n",
       "      <td>classic rock</td>\n",
       "      <td>2002</td>\n",
       "      <td>106</td>\n",
       "      <td>82</td>\n",
       "      <td>58</td>\n",
       "      <td>-5</td>\n",
       "      <td>10</td>\n",
       "      <td>87</td>\n",
       "      <td>256</td>\n",
       "      <td>1</td>\n",
       "      <td>3</td>\n",
       "      <td>59</td>\n",
       "    </tr>\n",
       "  </tbody>\n",
       "</table>\n",
       "</div>"
      ],
      "text/plain": [
       "   Index                   Title             Artist            Top Genre  \\\n",
       "0      1                 Sunrise        Norah Jones      adult standards   \n",
       "1      2             Black Night        Deep Purple           album rock   \n",
       "2      3          Clint Eastwood           Gorillaz  alternative hip hop   \n",
       "3      4           The Pretender       Foo Fighters    alternative metal   \n",
       "4      5  Waitin' On A Sunny Day  Bruce Springsteen         classic rock   \n",
       "\n",
       "   Year  Beats Per Minute (BPM)  Energy  Danceability  Loudness (dB)  \\\n",
       "0  2004                     157      30            53            -14   \n",
       "1  2000                     135      79            50            -11   \n",
       "2  2001                     168      69            66             -9   \n",
       "3  2007                     173      96            43             -4   \n",
       "4  2002                     106      82            58             -5   \n",
       "\n",
       "   Liveness  Valence Length (Duration)  Acousticness  Speechiness  Popularity  \n",
       "0        11       68               201            94            3          71  \n",
       "1        17       81               207            17            7          39  \n",
       "2         7       52               341             2           17          69  \n",
       "3         3       37               269             0            4          76  \n",
       "4        10       87               256             1            3          59  "
      ]
     },
     "metadata": {},
     "output_type": "display_data"
    }
   ],
   "source": [
    "# Display the first 5 rows of the dataset\n",
    "display(data.head())"
   ]
  },
  {
   "cell_type": "code",
   "execution_count": 4,
   "id": "fbb7d1de",
   "metadata": {},
   "outputs": [
    {
     "name": "stdout",
     "output_type": "stream",
     "text": [
      "The DataFrame has 1994 rows and 15 columns\n"
     ]
    }
   ],
   "source": [
    "# Display the shape of 'data' DataFrame \n",
    "n_rows, n_cols = data.shape\n",
    "print(f\"The DataFrame has {n_rows} rows and {n_cols} columns\") "
   ]
  },
  {
   "cell_type": "code",
   "execution_count": 5,
   "id": "90d08b99",
   "metadata": {},
   "outputs": [
    {
     "name": "stdout",
     "output_type": "stream",
     "text": [
      "<class 'pandas.core.frame.DataFrame'>\n",
      "RangeIndex: 1994 entries, 0 to 1993\n",
      "Data columns (total 15 columns):\n",
      " #   Column                  Non-Null Count  Dtype \n",
      "---  ------                  --------------  ----- \n",
      " 0   Index                   1994 non-null   int64 \n",
      " 1   Title                   1994 non-null   object\n",
      " 2   Artist                  1994 non-null   object\n",
      " 3   Top Genre               1994 non-null   object\n",
      " 4   Year                    1994 non-null   int64 \n",
      " 5   Beats Per Minute (BPM)  1994 non-null   int64 \n",
      " 6   Energy                  1994 non-null   int64 \n",
      " 7   Danceability            1994 non-null   int64 \n",
      " 8   Loudness (dB)           1994 non-null   int64 \n",
      " 9   Liveness                1994 non-null   int64 \n",
      " 10  Valence                 1994 non-null   int64 \n",
      " 11  Length (Duration)       1994 non-null   object\n",
      " 12  Acousticness            1994 non-null   int64 \n",
      " 13  Speechiness             1994 non-null   int64 \n",
      " 14  Popularity              1994 non-null   int64 \n",
      "dtypes: int64(11), object(4)\n",
      "memory usage: 233.8+ KB\n"
     ]
    }
   ],
   "source": [
    "# Display informative summary of the 'data' DataFrame\n",
    "data.info()"
   ]
  },
  {
   "cell_type": "code",
   "execution_count": 6,
   "id": "457906ba",
   "metadata": {},
   "outputs": [
    {
     "data": {
      "text/plain": [
       "Index(['index', 'title', 'artist', 'top_genre', 'year', 'beats_per_minute_bpm',\n",
       "       'energy', 'danceability', 'loudness_db', 'liveness', 'valence',\n",
       "       'length_duration', 'acousticness', 'speechiness', 'popularity'],\n",
       "      dtype='object')"
      ]
     },
     "execution_count": 6,
     "metadata": {},
     "output_type": "execute_result"
    }
   ],
   "source": [
    "# Clean column names: replace spaces with underscores, remove special characters, and convert to lowercase\n",
    "data.columns = [re.sub(r'\\s+', '_', re.sub(r'[^\\w\\s]', '', col)).lower() for col in data.columns]\n",
    "\n",
    "# Checking if the column names are renamed successfully\n",
    "data.columns"
   ]
  },
  {
   "cell_type": "code",
   "execution_count": 7,
   "id": "fddf992b",
   "metadata": {},
   "outputs": [
    {
     "name": "stdout",
     "output_type": "stream",
     "text": [
      "Number of duplicates: 0\n"
     ]
    }
   ],
   "source": [
    "# Check for any duplicates in the dataframe\n",
    "duplicates = data[data.duplicated()]\n",
    "print(f\"Number of duplicates: {duplicates.shape[0]}\")"
   ]
  },
  {
   "cell_type": "code",
   "execution_count": 8,
   "id": "1e7445f0",
   "metadata": {},
   "outputs": [
    {
     "data": {
      "text/plain": [
       "index                   0\n",
       "title                   0\n",
       "artist                  0\n",
       "top_genre               0\n",
       "year                    0\n",
       "beats_per_minute_bpm    0\n",
       "energy                  0\n",
       "danceability            0\n",
       "loudness_db             0\n",
       "liveness                0\n",
       "valence                 0\n",
       "length_duration         0\n",
       "acousticness            0\n",
       "speechiness             0\n",
       "popularity              0\n",
       "dtype: int64"
      ]
     },
     "metadata": {},
     "output_type": "display_data"
    }
   ],
   "source": [
    "# Check for missing values in 'data' DataFrame\n",
    "display(data.isna().sum())"
   ]
  },
  {
   "cell_type": "code",
   "execution_count": 9,
   "id": "50f1222e",
   "metadata": {},
   "outputs": [
    {
     "data": {
      "text/plain": [
       "length_duration\n",
       "215      23\n",
       "243      21\n",
       "241      20\n",
       "217      20\n",
       "236      20\n",
       "         ..\n",
       "1,367     1\n",
       "433       1\n",
       "602       1\n",
       "421       1\n",
       "128       1\n",
       "Name: count, Length: 350, dtype: int64"
      ]
     },
     "execution_count": 9,
     "metadata": {},
     "output_type": "execute_result"
    }
   ],
   "source": [
    "# Count the occurrences of each unique value in the 'length_duration' column \n",
    "# This is done to check why is this column datatype is object\n",
    "data['length_duration'].value_counts()"
   ]
  },
  {
   "cell_type": "code",
   "execution_count": 10,
   "id": "a86119d9",
   "metadata": {},
   "outputs": [
    {
     "name": "stdout",
     "output_type": "stream",
     "text": [
      "Number of values with a comma: 4\n"
     ]
    }
   ],
   "source": [
    "# Count how many values in the 'length_duration' column contain a comma\n",
    "num_with_comma = data['length_duration'].str.contains(',').sum()\n",
    "print(f\"Number of values with a comma: {num_with_comma}\")"
   ]
  },
  {
   "cell_type": "code",
   "execution_count": 11,
   "id": "fb7fbca8",
   "metadata": {},
   "outputs": [],
   "source": [
    "# Drop rows where 'length_duration' contains a comma\n",
    "data = data[~data['length_duration'].str.contains(',')]"
   ]
  },
  {
   "cell_type": "code",
   "execution_count": 12,
   "id": "0605ea9f",
   "metadata": {},
   "outputs": [
    {
     "data": {
      "text/plain": [
       "dtype('int32')"
      ]
     },
     "execution_count": 12,
     "metadata": {},
     "output_type": "execute_result"
    }
   ],
   "source": [
    "# Convert 'length_duration' column to integer data type\n",
    "data['length_duration'] = data['length_duration'].astype(int)\n",
    "\n",
    "# Checking if the datatype of 'length_duration' column is successfully changed\n",
    "data['length_duration'].dtype"
   ]
  },
  {
   "cell_type": "code",
   "execution_count": 13,
   "id": "f89f1625",
   "metadata": {},
   "outputs": [
    {
     "data": {
      "text/html": [
       "<div>\n",
       "<style scoped>\n",
       "    .dataframe tbody tr th:only-of-type {\n",
       "        vertical-align: middle;\n",
       "    }\n",
       "\n",
       "    .dataframe tbody tr th {\n",
       "        vertical-align: top;\n",
       "    }\n",
       "\n",
       "    .dataframe thead th {\n",
       "        text-align: right;\n",
       "    }\n",
       "</style>\n",
       "<table border=\"1\" class=\"dataframe\">\n",
       "  <thead>\n",
       "    <tr style=\"text-align: right;\">\n",
       "      <th></th>\n",
       "      <th>index</th>\n",
       "      <th>year</th>\n",
       "      <th>beats_per_minute_bpm</th>\n",
       "      <th>energy</th>\n",
       "      <th>danceability</th>\n",
       "      <th>loudness_db</th>\n",
       "      <th>liveness</th>\n",
       "      <th>valence</th>\n",
       "      <th>length_duration</th>\n",
       "      <th>acousticness</th>\n",
       "      <th>speechiness</th>\n",
       "      <th>popularity</th>\n",
       "    </tr>\n",
       "  </thead>\n",
       "  <tbody>\n",
       "    <tr>\n",
       "      <th>count</th>\n",
       "      <td>1990.000000</td>\n",
       "      <td>1990.000000</td>\n",
       "      <td>1990.000000</td>\n",
       "      <td>1990.000000</td>\n",
       "      <td>1990.000000</td>\n",
       "      <td>1990.000000</td>\n",
       "      <td>1990.000000</td>\n",
       "      <td>1990.000000</td>\n",
       "      <td>1990.000000</td>\n",
       "      <td>1990.000000</td>\n",
       "      <td>1990.000000</td>\n",
       "      <td>1990.000000</td>\n",
       "    </tr>\n",
       "    <tr>\n",
       "      <th>mean</th>\n",
       "      <td>997.151759</td>\n",
       "      <td>1993.036181</td>\n",
       "      <td>120.244221</td>\n",
       "      <td>59.684422</td>\n",
       "      <td>53.282915</td>\n",
       "      <td>-9.001508</td>\n",
       "      <td>18.975879</td>\n",
       "      <td>49.450251</td>\n",
       "      <td>260.361809</td>\n",
       "      <td>28.878392</td>\n",
       "      <td>4.995980</td>\n",
       "      <td>59.546734</td>\n",
       "    </tr>\n",
       "    <tr>\n",
       "      <th>std</th>\n",
       "      <td>575.902262</td>\n",
       "      <td>16.103165</td>\n",
       "      <td>28.027256</td>\n",
       "      <td>22.158370</td>\n",
       "      <td>15.331296</td>\n",
       "      <td>3.642868</td>\n",
       "      <td>16.673767</td>\n",
       "      <td>24.847090</td>\n",
       "      <td>81.201930</td>\n",
       "      <td>29.030562</td>\n",
       "      <td>4.405762</td>\n",
       "      <td>14.357203</td>\n",
       "    </tr>\n",
       "    <tr>\n",
       "      <th>min</th>\n",
       "      <td>1.000000</td>\n",
       "      <td>1956.000000</td>\n",
       "      <td>37.000000</td>\n",
       "      <td>3.000000</td>\n",
       "      <td>10.000000</td>\n",
       "      <td>-27.000000</td>\n",
       "      <td>2.000000</td>\n",
       "      <td>3.000000</td>\n",
       "      <td>93.000000</td>\n",
       "      <td>0.000000</td>\n",
       "      <td>2.000000</td>\n",
       "      <td>11.000000</td>\n",
       "    </tr>\n",
       "    <tr>\n",
       "      <th>25%</th>\n",
       "      <td>498.250000</td>\n",
       "      <td>1979.000000</td>\n",
       "      <td>99.000000</td>\n",
       "      <td>42.000000</td>\n",
       "      <td>43.000000</td>\n",
       "      <td>-11.000000</td>\n",
       "      <td>9.000000</td>\n",
       "      <td>29.000000</td>\n",
       "      <td>212.000000</td>\n",
       "      <td>3.000000</td>\n",
       "      <td>3.000000</td>\n",
       "      <td>50.000000</td>\n",
       "    </tr>\n",
       "    <tr>\n",
       "      <th>50%</th>\n",
       "      <td>998.500000</td>\n",
       "      <td>1994.000000</td>\n",
       "      <td>119.000000</td>\n",
       "      <td>61.000000</td>\n",
       "      <td>53.000000</td>\n",
       "      <td>-8.000000</td>\n",
       "      <td>12.000000</td>\n",
       "      <td>47.000000</td>\n",
       "      <td>245.000000</td>\n",
       "      <td>18.000000</td>\n",
       "      <td>4.000000</td>\n",
       "      <td>62.000000</td>\n",
       "    </tr>\n",
       "    <tr>\n",
       "      <th>75%</th>\n",
       "      <td>1495.750000</td>\n",
       "      <td>2007.000000</td>\n",
       "      <td>136.000000</td>\n",
       "      <td>78.000000</td>\n",
       "      <td>64.000000</td>\n",
       "      <td>-6.000000</td>\n",
       "      <td>23.000000</td>\n",
       "      <td>70.000000</td>\n",
       "      <td>289.000000</td>\n",
       "      <td>50.000000</td>\n",
       "      <td>5.000000</td>\n",
       "      <td>71.000000</td>\n",
       "    </tr>\n",
       "    <tr>\n",
       "      <th>max</th>\n",
       "      <td>1994.000000</td>\n",
       "      <td>2019.000000</td>\n",
       "      <td>206.000000</td>\n",
       "      <td>100.000000</td>\n",
       "      <td>96.000000</td>\n",
       "      <td>-2.000000</td>\n",
       "      <td>99.000000</td>\n",
       "      <td>99.000000</td>\n",
       "      <td>966.000000</td>\n",
       "      <td>99.000000</td>\n",
       "      <td>55.000000</td>\n",
       "      <td>100.000000</td>\n",
       "    </tr>\n",
       "  </tbody>\n",
       "</table>\n",
       "</div>"
      ],
      "text/plain": [
       "             index         year  beats_per_minute_bpm       energy  \\\n",
       "count  1990.000000  1990.000000           1990.000000  1990.000000   \n",
       "mean    997.151759  1993.036181            120.244221    59.684422   \n",
       "std     575.902262    16.103165             28.027256    22.158370   \n",
       "min       1.000000  1956.000000             37.000000     3.000000   \n",
       "25%     498.250000  1979.000000             99.000000    42.000000   \n",
       "50%     998.500000  1994.000000            119.000000    61.000000   \n",
       "75%    1495.750000  2007.000000            136.000000    78.000000   \n",
       "max    1994.000000  2019.000000            206.000000   100.000000   \n",
       "\n",
       "       danceability  loudness_db     liveness      valence  length_duration  \\\n",
       "count   1990.000000  1990.000000  1990.000000  1990.000000      1990.000000   \n",
       "mean      53.282915    -9.001508    18.975879    49.450251       260.361809   \n",
       "std       15.331296     3.642868    16.673767    24.847090        81.201930   \n",
       "min       10.000000   -27.000000     2.000000     3.000000        93.000000   \n",
       "25%       43.000000   -11.000000     9.000000    29.000000       212.000000   \n",
       "50%       53.000000    -8.000000    12.000000    47.000000       245.000000   \n",
       "75%       64.000000    -6.000000    23.000000    70.000000       289.000000   \n",
       "max       96.000000    -2.000000    99.000000    99.000000       966.000000   \n",
       "\n",
       "       acousticness  speechiness   popularity  \n",
       "count   1990.000000  1990.000000  1990.000000  \n",
       "mean      28.878392     4.995980    59.546734  \n",
       "std       29.030562     4.405762    14.357203  \n",
       "min        0.000000     2.000000    11.000000  \n",
       "25%        3.000000     3.000000    50.000000  \n",
       "50%       18.000000     4.000000    62.000000  \n",
       "75%       50.000000     5.000000    71.000000  \n",
       "max       99.000000    55.000000   100.000000  "
      ]
     },
     "execution_count": 13,
     "metadata": {},
     "output_type": "execute_result"
    }
   ],
   "source": [
    "# Display descriptive statistics of the 'data' DataFrame\n",
    "data.describe()"
   ]
  }
 ],
 "metadata": {
  "kernelspec": {
   "display_name": "base",
   "language": "python",
   "name": "python3"
  },
  "language_info": {
   "codemirror_mode": {
    "name": "ipython",
    "version": 3
   },
   "file_extension": ".py",
   "mimetype": "text/x-python",
   "name": "python",
   "nbconvert_exporter": "python",
   "pygments_lexer": "ipython3",
   "version": "3.12.4"
  }
 },
 "nbformat": 4,
 "nbformat_minor": 5
}
